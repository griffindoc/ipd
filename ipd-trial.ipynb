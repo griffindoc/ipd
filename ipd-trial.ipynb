{
 "cells": [
  {
   "cell_type": "code",
   "execution_count": 1,
   "id": "5da6e1b7",
   "metadata": {},
   "outputs": [
    {
     "name": "stderr",
     "output_type": "stream",
     "text": [
      "re-encoding from CP1252\n"
     ]
    }
   ],
   "source": [
    "db=file.choose()\n",
    "library(foreign)\n",
    "dataset=read.spss(db, to.data.frame=TRUE)"
   ]
  },
  {
   "cell_type": "code",
   "execution_count": 2,
   "id": "a363a219",
   "metadata": {},
   "outputs": [
    {
     "name": "stdout",
     "output_type": "stream",
     "text": [
      "'data.frame':\t15954 obs. of  39 variables:\n",
      " $ pid                 : num  1 2 3 4 5 6 7 8 9 10 ...\n",
      " $ sid                 : Factor w/ 15 levels \"Gracia et al\",..: 1 1 1 1 1 1 1 1 1 1 ...\n",
      " $ country             : Factor w/ 11 levels \"Canada              \",..: 10 10 10 10 10 10 10 10 10 10 ...\n",
      " $ gender              : Factor w/ 2 levels \"Male\",\"Female\": 2 2 2 2 1 2 1 1 1 2 ...\n",
      " $ age                 : num  49 55 66 62 61 64 60 71 62 72 ...\n",
      " $ diabetes            : Factor w/ 2 levels \"No diabetes\",..: 1 1 1 1 1 1 2 1 2 1 ...\n",
      " $ hypertension        : Factor w/ 2 levels \"No hypertension\",..: 2 2 2 2 2 2 2 2 2 2 ...\n",
      " $ cvd                 : Factor w/ 2 levels \"No CVD\",\"CVD\": NA NA NA NA NA NA NA NA NA NA ...\n",
      " $ ckd                 : Factor w/ 2 levels \"No CKD\",\"CKD\": 2 2 2 2 2 2 2 2 2 2 ...\n",
      " $ smoking             : Factor w/ 3 levels \"Nonsmoker\",\"Exsmoker\",..: 1 2 2 1 2 1 2 2 1 1 ...\n",
      " $ bmi                 : num  26.7 22.1 36.4 34 35.6 ...\n",
      " $ study_quality       : num  13 13 13 13 13 13 13 13 13 13 ...\n",
      " $ iron                : num  NA NA NA NA NA NA NA NA NA NA ...\n",
      " $ ferritin            : num  380 97 226 89 185 924 301 189 235 46.2 ...\n",
      " $ transferrin         : num  159 156 245 253 187 169 332 NA 193 286 ...\n",
      " $ tfsat               : num  24.3 24.7 28.3 36.7 23.2 ...\n",
      " $ tibc                : num  NA NA NA NA NA NA NA NA NA NA ...\n",
      " $ uibc                : num  NA NA NA NA NA NA NA NA NA NA ...\n",
      " $ imt                 : num  0.68 0.65 0.77 0.78 0.89 0.62 0.76 0.96 0.75 0.54 ...\n",
      " $ glucose             : num  111 80 82 87 98 101 100 90 145 103 ...\n",
      " $ creatinine          : num  NA NA 1.3 1.74 1.77 NA 1.35 1.75 4.3 2 ...\n",
      " $ cholesterol         : num  114 222 165 224 128 145 201 165 160 202 ...\n",
      " $ triacylglycerols    : num  66 115 147 83 68 86 308 73 263 134 ...\n",
      " $ hdlc                : num  38 39 55 NA NA 41 NA 53 38 50 ...\n",
      " $ ldlc                : num  63 160 81 NA NA 87 NA 97 69 125 ...\n",
      " $ crp                 : num  NA NA NA NA NA NA NA NA NA NA ...\n",
      " $ steatosis           : Factor w/ 2 levels \"No steatosis\",..: NA NA NA NA NA NA NA NA NA NA ...\n",
      " $ hb                  : num  8.4 9.9 11.6 13 15 14.5 17.3 14.8 12.7 12 ...\n",
      " $ hemochromatosis     : Factor w/ 2 levels \"No\",\"Yes\": NA NA NA NA NA NA NA NA NA NA ...\n",
      " $ thalassemia         : Factor w/ 2 levels \"No\",\"Yes\": 1 1 1 1 1 1 1 1 1 1 ...\n",
      " $ sbp                 : num  133 169 157 153 138 138 120 167 161 137 ...\n",
      " $ dbp                 : num  73 92 90 86 83 76 81 89 91 89 ...\n",
      " $ anemia              : Factor w/ 2 levels \"No anemia\",\"Anemia\": 2 2 2 1 1 1 1 1 2 1 ...\n",
      " $ iron_centered       : num  NA NA NA NA NA NA NA NA NA NA ...\n",
      " $ ferritin_centered   : num  0.4343 -0.2498 0.0621 -0.2691 -0.0371 ...\n",
      " $ transferrin_centered: num  -1.287 -1.341 0.275 0.421 -0.778 ...\n",
      " $ tfsat_centered      : num  -0.4397 -0.4005 -0.0983 0.6202 -0.5342 ...\n",
      " $ bmi_centered        : num  -0.261 -1.242 1.775 1.271 1.624 ...\n",
      " $ age_centered        : num  -0.5182 -0.0423 0.8301 0.5129 0.4336 ...\n",
      " - attr(*, \"variable.labels\")= Named chr  \"participant_id\" \"study_id\" \"country_of_origin_of_study\" \"gender_of_participants\" ...\n",
      "  ..- attr(*, \"names\")= chr  \"pid\" \"sid\" \"country\" \"gender\" ...\n",
      " - attr(*, \"codepage\")= int 1252\n"
     ]
    }
   ],
   "source": [
    "str(dataset)"
   ]
  },
  {
   "cell_type": "code",
   "execution_count": 3,
   "id": "58a87710",
   "metadata": {},
   "outputs": [
    {
     "name": "stderr",
     "output_type": "stream",
     "text": [
      "also installing the dependencies 'minqa', 'nloptr', 'RcppEigen', 'lme4'\n",
      "\n"
     ]
    },
    {
     "name": "stdout",
     "output_type": "stream",
     "text": [
      "\n",
      "  There is a binary version available but the source version is later:\n",
      "     binary   source needs_compilation\n",
      "lme4 1.1-26 1.1-27.1              TRUE\n",
      "\n",
      "  Binaries will be installed\n",
      "package 'minqa' successfully unpacked and MD5 sums checked\n",
      "package 'nloptr' successfully unpacked and MD5 sums checked\n",
      "package 'RcppEigen' successfully unpacked and MD5 sums checked\n",
      "package 'lme4' successfully unpacked and MD5 sums checked\n",
      "package 'lmerTest' successfully unpacked and MD5 sums checked\n",
      "\n",
      "The downloaded binary packages are in\n",
      "\tC:\\Users\\griff\\AppData\\Local\\Temp\\Rtmpop3KhN\\downloaded_packages\n"
     ]
    },
    {
     "name": "stderr",
     "output_type": "stream",
     "text": [
      "Warning message:\n",
      "\"package 'lmerTest' was built under R version 3.6.3\"Loading required package: lme4\n",
      "Warning message:\n",
      "\"package 'lme4' was built under R version 3.6.3\"Loading required package: Matrix\n",
      "Error: package or namespace load failed for 'lme4' in loadNamespace(j <- i[[1L]], c(lib.loc, .libPaths()), versionCheck = vI[[j]]):\n",
      " there is no package called 'statmod'\n"
     ]
    },
    {
     "ename": "ERROR",
     "evalue": "Error: package 'lme4' could not be loaded\n",
     "output_type": "error",
     "traceback": [
      "Error: package 'lme4' could not be loaded\nTraceback:\n",
      "1. library(lmerTest)",
      "2. .getRequiredPackages2(pkgInfo, quietly = quietly)",
      "3. stop(gettextf(\"package %s could not be loaded\", sQuote(pkg)), \n .     call. = FALSE, domain = NA)"
     ]
    }
   ],
   "source": [
    "install.packages(\"lmerTest\")\n",
    "library(lmerTest)\n",
    "iron_univariate <- lmer(imt ~ 1 + iron_centered + (1 | sid), data = dataset)\n",
    "fit.iron_univariate <- summary(iron_univariate)"
   ]
  },
  {
   "cell_type": "code",
   "execution_count": 4,
   "id": "32091f87",
   "metadata": {},
   "outputs": [
    {
     "name": "stdout",
     "output_type": "stream",
     "text": [
      "\n",
      "  There is a binary version available but the source version is later:\n",
      "     binary   source needs_compilation\n",
      "lme4 1.1-26 1.1-27.1              TRUE\n",
      "\n",
      "  Binaries will be installed\n",
      "package 'lme4' successfully unpacked and MD5 sums checked\n",
      "\n",
      "The downloaded binary packages are in\n",
      "\tC:\\Users\\griff\\AppData\\Local\\Temp\\Rtmpop3KhN\\downloaded_packages\n"
     ]
    }
   ],
   "source": [
    "install.packages(\"lme4\")"
   ]
  },
  {
   "cell_type": "code",
   "execution_count": 5,
   "id": "b0802647",
   "metadata": {},
   "outputs": [
    {
     "name": "stderr",
     "output_type": "stream",
     "text": [
      "Warning message:\n",
      "\"package 'lme4' was built under R version 3.6.3\""
     ]
    },
    {
     "ename": "ERROR",
     "evalue": "Error: package or namespace load failed for 'lme4' in loadNamespace(j <- i[[1L]], c(lib.loc, .libPaths()), versionCheck = vI[[j]]):\n there is no package called 'statmod'\n",
     "output_type": "error",
     "traceback": [
      "Error: package or namespace load failed for 'lme4' in loadNamespace(j <- i[[1L]], c(lib.loc, .libPaths()), versionCheck = vI[[j]]):\n there is no package called 'statmod'\nTraceback:\n",
      "1. library(lme4)",
      "2. tryCatch({\n .     attr(package, \"LibPath\") <- which.lib.loc\n .     ns <- loadNamespace(package, lib.loc)\n .     env <- attachNamespace(ns, pos = pos, deps, exclude, include.only)\n . }, error = function(e) {\n .     P <- if (!is.null(cc <- conditionCall(e))) \n .         paste(\" in\", deparse(cc)[1L])\n .     else \"\"\n .     msg <- gettextf(\"package or namespace load failed for %s%s:\\n %s\", \n .         sQuote(package), P, conditionMessage(e))\n .     if (logical.return) \n .         message(paste(\"Error:\", msg), domain = NA)\n .     else stop(msg, call. = FALSE, domain = NA)\n . })",
      "3. tryCatchList(expr, classes, parentenv, handlers)",
      "4. tryCatchOne(expr, names, parentenv, handlers[[1L]])",
      "5. value[[3L]](cond)",
      "6. stop(msg, call. = FALSE, domain = NA)"
     ]
    }
   ],
   "source": [
    "library(lme4)\n",
    "install.packages(\"lmerTest\")"
   ]
  },
  {
   "cell_type": "code",
   "execution_count": 6,
   "id": "10cd4f94",
   "metadata": {},
   "outputs": [
    {
     "name": "stderr",
     "output_type": "stream",
     "text": [
      "Warning message:\n",
      "\"package 'lme4' was built under R version 3.6.3\""
     ]
    },
    {
     "ename": "ERROR",
     "evalue": "Error: package or namespace load failed for 'lme4' in loadNamespace(j <- i[[1L]], c(lib.loc, .libPaths()), versionCheck = vI[[j]]):\n there is no package called 'statmod'\n",
     "output_type": "error",
     "traceback": [
      "Error: package or namespace load failed for 'lme4' in loadNamespace(j <- i[[1L]], c(lib.loc, .libPaths()), versionCheck = vI[[j]]):\n there is no package called 'statmod'\nTraceback:\n",
      "1. library(lme4)",
      "2. tryCatch({\n .     attr(package, \"LibPath\") <- which.lib.loc\n .     ns <- loadNamespace(package, lib.loc)\n .     env <- attachNamespace(ns, pos = pos, deps, exclude, include.only)\n . }, error = function(e) {\n .     P <- if (!is.null(cc <- conditionCall(e))) \n .         paste(\" in\", deparse(cc)[1L])\n .     else \"\"\n .     msg <- gettextf(\"package or namespace load failed for %s%s:\\n %s\", \n .         sQuote(package), P, conditionMessage(e))\n .     if (logical.return) \n .         message(paste(\"Error:\", msg), domain = NA)\n .     else stop(msg, call. = FALSE, domain = NA)\n . })",
      "3. tryCatchList(expr, classes, parentenv, handlers)",
      "4. tryCatchOne(expr, names, parentenv, handlers[[1L]])",
      "5. value[[3L]](cond)",
      "6. stop(msg, call. = FALSE, domain = NA)"
     ]
    }
   ],
   "source": [
    "library(lme4)"
   ]
  },
  {
   "cell_type": "code",
   "execution_count": 7,
   "id": "6f09f0fc",
   "metadata": {},
   "outputs": [
    {
     "ename": "ERROR",
     "evalue": "Error in lmer(imt ~ 1 + iron_centered + (1 | sid), data = dataset): could not find function \"lmer\"\n",
     "output_type": "error",
     "traceback": [
      "Error in lmer(imt ~ 1 + iron_centered + (1 | sid), data = dataset): could not find function \"lmer\"\nTraceback:\n"
     ]
    }
   ],
   "source": [
    "iron_univariate <- lmer(imt ~ 1 + iron_centered + (1 | sid), data = dataset)\n",
    "fit.iron_univariate <- summary(iron_univariate)"
   ]
  },
  {
   "cell_type": "code",
   "execution_count": 8,
   "id": "6036cfab",
   "metadata": {},
   "outputs": [
    {
     "name": "stdout",
     "output_type": "stream",
     "text": [
      "package 'statmod' successfully unpacked and MD5 sums checked\n",
      "\n",
      "The downloaded binary packages are in\n",
      "\tC:\\Users\\griff\\AppData\\Local\\Temp\\Rtmpop3KhN\\downloaded_packages\n"
     ]
    }
   ],
   "source": [
    "install.packages(\"statmod\")"
   ]
  },
  {
   "cell_type": "code",
   "execution_count": 9,
   "id": "959c973d",
   "metadata": {},
   "outputs": [
    {
     "name": "stderr",
     "output_type": "stream",
     "text": [
      "Warning message:\n",
      "\"package 'statmod' was built under R version 3.6.3\""
     ]
    }
   ],
   "source": [
    "library(statmod)"
   ]
  },
  {
   "cell_type": "code",
   "execution_count": 10,
   "id": "7a9b1d79",
   "metadata": {},
   "outputs": [
    {
     "name": "stdout",
     "output_type": "stream",
     "text": [
      "package 'lmerTest' successfully unpacked and MD5 sums checked\n",
      "\n",
      "The downloaded binary packages are in\n",
      "\tC:\\Users\\griff\\AppData\\Local\\Temp\\Rtmpop3KhN\\downloaded_packages\n"
     ]
    }
   ],
   "source": [
    "install.packages(\"lmerTest\")"
   ]
  },
  {
   "cell_type": "code",
   "execution_count": 11,
   "id": "cca161fa",
   "metadata": {},
   "outputs": [
    {
     "name": "stderr",
     "output_type": "stream",
     "text": [
      "Warning message:\n",
      "\"package 'lmerTest' was built under R version 3.6.3\"Loading required package: lme4\n",
      "Warning message:\n",
      "\"package 'lme4' was built under R version 3.6.3\"Registered S3 methods overwritten by 'ggplot2':\n",
      "  method         from \n",
      "  [.quosures     rlang\n",
      "  c.quosures     rlang\n",
      "  print.quosures rlang\n",
      "\n",
      "Attaching package: 'lmerTest'\n",
      "\n",
      "The following object is masked from 'package:lme4':\n",
      "\n",
      "    lmer\n",
      "\n",
      "The following object is masked from 'package:stats':\n",
      "\n",
      "    step\n",
      "\n"
     ]
    }
   ],
   "source": [
    "library(lmerTest)"
   ]
  },
  {
   "cell_type": "code",
   "execution_count": 19,
   "id": "de521453",
   "metadata": {},
   "outputs": [
    {
     "data": {
      "text/plain": [
       "Linear mixed model fit by REML. t-tests use Satterthwaite's method [\n",
       "lmerModLmerTest]\n",
       "Formula: imt ~ 1 + iron_centered + gender + (1 | sid)\n",
       "   Data: dataset\n",
       "\n",
       "REML criterion at convergence: -1265.1\n",
       "\n",
       "Scaled residuals: \n",
       "    Min      1Q  Median      3Q     Max \n",
       "-5.3300 -0.5312 -0.0924  0.4613 25.4541 \n",
       "\n",
       "Random effects:\n",
       " Groups   Name        Variance Std.Dev.\n",
       " sid      (Intercept) 0.06275  0.2505  \n",
       " Residual             0.03987  0.1997  \n",
       "Number of obs: 3504, groups:  sid, 12\n",
       "\n",
       "Fixed effects:\n",
       "                Estimate Std. Error         df t value Pr(>|t|)    \n",
       "(Intercept)    7.814e-01  7.271e-02  1.104e+01  10.747 3.47e-07 ***\n",
       "iron_centered -5.326e-03  3.520e-03  3.493e+03  -1.513     0.13    \n",
       "genderFemale  -3.925e-02  8.082e-03  3.493e+03  -4.857 1.25e-06 ***\n",
       "---\n",
       "Signif. codes:  0 '***' 0.001 '**' 0.01 '*' 0.05 '.' 0.1 ' ' 1\n",
       "\n",
       "Correlation of Fixed Effects:\n",
       "            (Intr) irn_cn\n",
       "iron_centrd  0.009       \n",
       "genderFemal -0.043  0.103"
      ]
     },
     "metadata": {},
     "output_type": "display_data"
    }
   ],
   "source": [
    "iron_univariate <- lmer(imt ~ 1 + iron_centered+gender+(1|sid), data = dataset)\n",
    "fit.iron_univariate <- summary(iron_univariate)\n",
    "summary(fit.iron_univariate)"
   ]
  },
  {
   "cell_type": "code",
   "execution_count": 24,
   "id": "195422fa",
   "metadata": {},
   "outputs": [
    {
     "name": "stderr",
     "output_type": "stream",
     "text": [
      "also installing the dependency 'rlang'\n",
      "\n"
     ]
    },
    {
     "name": "stdout",
     "output_type": "stream",
     "text": [
      "\n",
      "  There is a binary version available but the source version is later:\n",
      "        binary source needs_compilation\n",
      "ggplot2  3.3.3  3.3.5             FALSE\n",
      "\n",
      "package 'rlang' successfully unpacked and MD5 sums checked\n"
     ]
    },
    {
     "name": "stderr",
     "output_type": "stream",
     "text": [
      "Warning message:\n",
      "\"cannot remove prior installation of package 'rlang'\"Warning message in file.copy(savedcopy, lib, recursive = TRUE):\n",
      "\"problem copying C:\\Users\\griff\\anaconda3\\envs\\r-ipd\\Lib\\R\\library\\00LOCK\\rlang\\libs\\x64\\rlang.dll to C:\\Users\\griff\\anaconda3\\envs\\r-ipd\\Lib\\R\\library\\rlang\\libs\\x64\\rlang.dll: Permission denied\"Warning message:\n",
      "\"restored 'rlang'\""
     ]
    },
    {
     "name": "stdout",
     "output_type": "stream",
     "text": [
      "\n",
      "The downloaded binary packages are in\n",
      "\tC:\\Users\\griff\\AppData\\Local\\Temp\\Rtmpop3KhN\\downloaded_packages\n"
     ]
    },
    {
     "name": "stderr",
     "output_type": "stream",
     "text": [
      "installing the source package 'ggplot2'\n",
      "\n",
      "Warning message in install.packages(\"ggplot2\"):\n",
      "\"installation of package 'ggplot2' had non-zero exit status\"Warning message:\n",
      "\"Removed 7059 rows containing missing values (stat_boxplot).\"Warning message:\n",
      "\"Removed 12402 rows containing missing values (geom_point).\""
     ]
    },
    {
     "data": {
      "image/png": "[encoded data removed]",
      "text/plain": [
       "plot without title"
      ]
     },
     "metadata": {},
     "output_type": "display_data"
    },
    {
     "data": {
      "image/png": "[encoded data removed]",
      "text/plain": [
       "plot without title"
      ]
     },
     "metadata": {},
     "output_type": "display_data"
    }
   ],
   "source": [
    "install.packages(\"ggplot2\")\n",
    "library(ggplot2)\n",
    "a1<-ggplot(dataset, aes(iron, sid))\n",
    "a1 + geom_boxplot()+geom_jitter(aes(color= gender))+\n",
    "theme_bw()+\n",
    "theme(axis.text.y = element_text(color=\"red\", size=10))+\n",
    "scale_color_manual(values =  c(\"#00AFBB\", \"#E7B800\"))+\n",
    "theme(legend.position=\"bottom\", plot.background = element_blank(),\n",
    "    panel.grid.minor = element_blank())+\n",
    "geom_vline(xintercept = 10.7,linetype = \"dashed\")+geom_vline(xintercept = 26.9,linetype = \"dashed\")+\n",
    "labs(title = \"Serum Iron\",y=\"\", x = \"Iron (µM)\", subtitle = \"\",\n",
    "caption = \"Reference interval: Rifai N, ed. Tietz Textbook of Clinical Chemistry and Molecular Diagnostics.6th ed.2017\")+\n",
    "theme(plot.title = element_text(face=\"bold\", hjust=0, size=16))\n",
    "plot(a1)"
   ]
  }
 ],
 "metadata": {
  "kernelspec": {
   "display_name": "R",
   "language": "R",
   "name": "ir"
  },
  "language_info": {
   "codemirror_mode": "r",
   "file_extension": ".r",
   "mimetype": "text/x-r-source",
   "name": "R",
   "pygments_lexer": "r",
   "version": "3.6.1"
  }
 },
 "nbformat": 4,
 "nbformat_minor": 5
}
